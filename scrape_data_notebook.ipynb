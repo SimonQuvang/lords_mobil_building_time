{
 "cells": [
  {
   "cell_type": "code",
   "execution_count": 40,
   "metadata": {
    "collapsed": true
   },
   "outputs": [],
   "source": [
    "import requests\n",
    "import pandas as pd\n",
    "\n",
    "\n",
    "url = 'https://lordsmobile.fandom.com/wiki/Farm'\n",
    "\n",
    "response = requests.request(\"GET\", url)\n",
    "\n",
    "list_of_dfs = pd.read_html(response.text,  decimal='.', thousands=',')"
   ]
  },
  {
   "cell_type": "code",
   "execution_count": 41,
   "outputs": [
    {
     "data": {
      "text/plain": "    Level  Food Prod/H  Turf Food Storage  Might Bonus  Stone Cost  \\\n0       1           70               3500            6         100   \n1       2          210              10400           14         150   \n2       3          420              20800           21         225   \n3       4          700              34700           29         337   \n4       5         1050              52100           41         506   \n5       6         1470              72900           57         759   \n6       7         1960              97200           80        1139   \n7       8         2520             125000          112        1708   \n8       9         3150             187500          157        2562   \n9      10         3840             256900          220        3844   \n10     11         4600             333300          307        5766   \n11     12         5430             416600          431        8650   \n12     13         6330             506900          602       12975   \n13     14         7300             604100          844       19462   \n14     15         8340             708300         1181       29193   \n15     16         9450             819400         1654       43790   \n16     17        10630             996500         2315       76919   \n17     18        11880            1184000         3241      118456   \n18     19        13200            1381900         4537      182422   \n19     20        14590            1590200         6353      280930   \n20     21        16050            1809000         8893      432632   \n21     22        17580            2038200        12450      666255   \n22     23        19180            2277800        17431     1026032   \n23     24        20850            2527800        24404     1580090   \n24     25        38210            2875000        41485     3160180   \n\n    Timber Cost  Ore Cost                      Required    Orig. Time  \n0           100       100                  Castle: Lv.1      00:01:12  \n1           150       150                  Castle: Lv.2      00:01:48  \n2           225       225                  Castle: Lv.3      00:03:36  \n3           337       337                  Castle: Lv.4      00:07:12  \n4           506       506                  Castle: Lv.5      00:14:24  \n5           759       759                  Castle: Lv.6      00:28:48  \n6          1139      1139                  Castle: Lv.7      00:57:36  \n7          1708      1708                  Castle: Lv.8      01:55:12  \n8          2562      2562                  Castle: Lv.9      03:27:22  \n9          3844      3844                 Castle: Lv.10      05:31:47  \n10         5766      5766                 Castle: Lv.11      07:11:19  \n11         8650      8650                 Castle: Lv.12      08:20:20  \n12        12975     12975                 Castle: Lv.13      09:50:23  \n13        19462     19462                 Castle: Lv.14      11:36:39  \n14        29193     29193                 Castle: Lv.15      13:42:03  \n15        43790     43790                 Castle: Lv.16      16:10:01  \n16        76919     76919                 Castle: Lv.17      19:04:37  \n17       118456    118456                 Castle: Lv.18      22:30:39  \n18       182422    182422                 Castle: Lv.19   1d 02:33:46  \n19       280930    280930                 Castle: Lv.20   1d 07:20:38  \n20       432632    432632                 Castle: Lv.21   1d 18:18:51  \n21       666255    666255                 Castle: Lv.22   2d 21:49:06  \n22      1026032   1026032                 Castle: Lv.23   5d 05:40:23  \n23      1580090   1580090                 Castle: Lv.24   9d 10:12:40  \n24      3160180   3160180  Castle: Lv.25 Gold Hammer: 1  32d 23:44:20  ",
      "text/html": "<div>\n<style scoped>\n    .dataframe tbody tr th:only-of-type {\n        vertical-align: middle;\n    }\n\n    .dataframe tbody tr th {\n        vertical-align: top;\n    }\n\n    .dataframe thead th {\n        text-align: right;\n    }\n</style>\n<table border=\"1\" class=\"dataframe\">\n  <thead>\n    <tr style=\"text-align: right;\">\n      <th></th>\n      <th>Level</th>\n      <th>Food Prod/H</th>\n      <th>Turf Food Storage</th>\n      <th>Might Bonus</th>\n      <th>Stone Cost</th>\n      <th>Timber Cost</th>\n      <th>Ore Cost</th>\n      <th>Required</th>\n      <th>Orig. Time</th>\n    </tr>\n  </thead>\n  <tbody>\n    <tr>\n      <th>0</th>\n      <td>1</td>\n      <td>70</td>\n      <td>3500</td>\n      <td>6</td>\n      <td>100</td>\n      <td>100</td>\n      <td>100</td>\n      <td>Castle: Lv.1</td>\n      <td>00:01:12</td>\n    </tr>\n    <tr>\n      <th>1</th>\n      <td>2</td>\n      <td>210</td>\n      <td>10400</td>\n      <td>14</td>\n      <td>150</td>\n      <td>150</td>\n      <td>150</td>\n      <td>Castle: Lv.2</td>\n      <td>00:01:48</td>\n    </tr>\n    <tr>\n      <th>2</th>\n      <td>3</td>\n      <td>420</td>\n      <td>20800</td>\n      <td>21</td>\n      <td>225</td>\n      <td>225</td>\n      <td>225</td>\n      <td>Castle: Lv.3</td>\n      <td>00:03:36</td>\n    </tr>\n    <tr>\n      <th>3</th>\n      <td>4</td>\n      <td>700</td>\n      <td>34700</td>\n      <td>29</td>\n      <td>337</td>\n      <td>337</td>\n      <td>337</td>\n      <td>Castle: Lv.4</td>\n      <td>00:07:12</td>\n    </tr>\n    <tr>\n      <th>4</th>\n      <td>5</td>\n      <td>1050</td>\n      <td>52100</td>\n      <td>41</td>\n      <td>506</td>\n      <td>506</td>\n      <td>506</td>\n      <td>Castle: Lv.5</td>\n      <td>00:14:24</td>\n    </tr>\n    <tr>\n      <th>5</th>\n      <td>6</td>\n      <td>1470</td>\n      <td>72900</td>\n      <td>57</td>\n      <td>759</td>\n      <td>759</td>\n      <td>759</td>\n      <td>Castle: Lv.6</td>\n      <td>00:28:48</td>\n    </tr>\n    <tr>\n      <th>6</th>\n      <td>7</td>\n      <td>1960</td>\n      <td>97200</td>\n      <td>80</td>\n      <td>1139</td>\n      <td>1139</td>\n      <td>1139</td>\n      <td>Castle: Lv.7</td>\n      <td>00:57:36</td>\n    </tr>\n    <tr>\n      <th>7</th>\n      <td>8</td>\n      <td>2520</td>\n      <td>125000</td>\n      <td>112</td>\n      <td>1708</td>\n      <td>1708</td>\n      <td>1708</td>\n      <td>Castle: Lv.8</td>\n      <td>01:55:12</td>\n    </tr>\n    <tr>\n      <th>8</th>\n      <td>9</td>\n      <td>3150</td>\n      <td>187500</td>\n      <td>157</td>\n      <td>2562</td>\n      <td>2562</td>\n      <td>2562</td>\n      <td>Castle: Lv.9</td>\n      <td>03:27:22</td>\n    </tr>\n    <tr>\n      <th>9</th>\n      <td>10</td>\n      <td>3840</td>\n      <td>256900</td>\n      <td>220</td>\n      <td>3844</td>\n      <td>3844</td>\n      <td>3844</td>\n      <td>Castle: Lv.10</td>\n      <td>05:31:47</td>\n    </tr>\n    <tr>\n      <th>10</th>\n      <td>11</td>\n      <td>4600</td>\n      <td>333300</td>\n      <td>307</td>\n      <td>5766</td>\n      <td>5766</td>\n      <td>5766</td>\n      <td>Castle: Lv.11</td>\n      <td>07:11:19</td>\n    </tr>\n    <tr>\n      <th>11</th>\n      <td>12</td>\n      <td>5430</td>\n      <td>416600</td>\n      <td>431</td>\n      <td>8650</td>\n      <td>8650</td>\n      <td>8650</td>\n      <td>Castle: Lv.12</td>\n      <td>08:20:20</td>\n    </tr>\n    <tr>\n      <th>12</th>\n      <td>13</td>\n      <td>6330</td>\n      <td>506900</td>\n      <td>602</td>\n      <td>12975</td>\n      <td>12975</td>\n      <td>12975</td>\n      <td>Castle: Lv.13</td>\n      <td>09:50:23</td>\n    </tr>\n    <tr>\n      <th>13</th>\n      <td>14</td>\n      <td>7300</td>\n      <td>604100</td>\n      <td>844</td>\n      <td>19462</td>\n      <td>19462</td>\n      <td>19462</td>\n      <td>Castle: Lv.14</td>\n      <td>11:36:39</td>\n    </tr>\n    <tr>\n      <th>14</th>\n      <td>15</td>\n      <td>8340</td>\n      <td>708300</td>\n      <td>1181</td>\n      <td>29193</td>\n      <td>29193</td>\n      <td>29193</td>\n      <td>Castle: Lv.15</td>\n      <td>13:42:03</td>\n    </tr>\n    <tr>\n      <th>15</th>\n      <td>16</td>\n      <td>9450</td>\n      <td>819400</td>\n      <td>1654</td>\n      <td>43790</td>\n      <td>43790</td>\n      <td>43790</td>\n      <td>Castle: Lv.16</td>\n      <td>16:10:01</td>\n    </tr>\n    <tr>\n      <th>16</th>\n      <td>17</td>\n      <td>10630</td>\n      <td>996500</td>\n      <td>2315</td>\n      <td>76919</td>\n      <td>76919</td>\n      <td>76919</td>\n      <td>Castle: Lv.17</td>\n      <td>19:04:37</td>\n    </tr>\n    <tr>\n      <th>17</th>\n      <td>18</td>\n      <td>11880</td>\n      <td>1184000</td>\n      <td>3241</td>\n      <td>118456</td>\n      <td>118456</td>\n      <td>118456</td>\n      <td>Castle: Lv.18</td>\n      <td>22:30:39</td>\n    </tr>\n    <tr>\n      <th>18</th>\n      <td>19</td>\n      <td>13200</td>\n      <td>1381900</td>\n      <td>4537</td>\n      <td>182422</td>\n      <td>182422</td>\n      <td>182422</td>\n      <td>Castle: Lv.19</td>\n      <td>1d 02:33:46</td>\n    </tr>\n    <tr>\n      <th>19</th>\n      <td>20</td>\n      <td>14590</td>\n      <td>1590200</td>\n      <td>6353</td>\n      <td>280930</td>\n      <td>280930</td>\n      <td>280930</td>\n      <td>Castle: Lv.20</td>\n      <td>1d 07:20:38</td>\n    </tr>\n    <tr>\n      <th>20</th>\n      <td>21</td>\n      <td>16050</td>\n      <td>1809000</td>\n      <td>8893</td>\n      <td>432632</td>\n      <td>432632</td>\n      <td>432632</td>\n      <td>Castle: Lv.21</td>\n      <td>1d 18:18:51</td>\n    </tr>\n    <tr>\n      <th>21</th>\n      <td>22</td>\n      <td>17580</td>\n      <td>2038200</td>\n      <td>12450</td>\n      <td>666255</td>\n      <td>666255</td>\n      <td>666255</td>\n      <td>Castle: Lv.22</td>\n      <td>2d 21:49:06</td>\n    </tr>\n    <tr>\n      <th>22</th>\n      <td>23</td>\n      <td>19180</td>\n      <td>2277800</td>\n      <td>17431</td>\n      <td>1026032</td>\n      <td>1026032</td>\n      <td>1026032</td>\n      <td>Castle: Lv.23</td>\n      <td>5d 05:40:23</td>\n    </tr>\n    <tr>\n      <th>23</th>\n      <td>24</td>\n      <td>20850</td>\n      <td>2527800</td>\n      <td>24404</td>\n      <td>1580090</td>\n      <td>1580090</td>\n      <td>1580090</td>\n      <td>Castle: Lv.24</td>\n      <td>9d 10:12:40</td>\n    </tr>\n    <tr>\n      <th>24</th>\n      <td>25</td>\n      <td>38210</td>\n      <td>2875000</td>\n      <td>41485</td>\n      <td>3160180</td>\n      <td>3160180</td>\n      <td>3160180</td>\n      <td>Castle: Lv.25 Gold Hammer: 1</td>\n      <td>32d 23:44:20</td>\n    </tr>\n  </tbody>\n</table>\n</div>"
     },
     "execution_count": 41,
     "metadata": {},
     "output_type": "execute_result"
    }
   ],
   "source": [
    "df = list_of_dfs[0]\n",
    "df"
   ],
   "metadata": {
    "collapsed": false,
    "pycharm": {
     "name": "#%%\n"
    }
   }
  },
  {
   "cell_type": "code",
   "execution_count": 42,
   "outputs": [
    {
     "data": {
      "text/plain": "    Level  Food Prod/H  Turf Food Storage  Might Bonus  Stone Cost  \\\n0       1           70               3500            6         100   \n1       2          210              10400           14         150   \n2       3          420              20800           21         225   \n3       4          700              34700           29         337   \n4       5         1050              52100           41         506   \n5       6         1470              72900           57         759   \n6       7         1960              97200           80        1139   \n7       8         2520             125000          112        1708   \n8       9         3150             187500          157        2562   \n9      10         3840             256900          220        3844   \n10     11         4600             333300          307        5766   \n11     12         5430             416600          431        8650   \n12     13         6330             506900          602       12975   \n13     14         7300             604100          844       19462   \n14     15         8340             708300         1181       29193   \n15     16         9450             819400         1654       43790   \n16     17        10630             996500         2315       76919   \n17     18        11880            1184000         3241      118456   \n18     19        13200            1381900         4537      182422   \n19     20        14590            1590200         6353      280930   \n20     21        16050            1809000         8893      432632   \n21     22        17580            2038200        12450      666255   \n22     23        19180            2277800        17431     1026032   \n23     24        20850            2527800        24404     1580090   \n24     25        38210            2875000        41485     3160180   \n\n    Timber Cost  Ore Cost                      Required  Orig. Time  \n0           100       100                  Castle: Lv.1          72  \n1           150       150                  Castle: Lv.2         108  \n2           225       225                  Castle: Lv.3         216  \n3           337       337                  Castle: Lv.4         432  \n4           506       506                  Castle: Lv.5         864  \n5           759       759                  Castle: Lv.6        1728  \n6          1139      1139                  Castle: Lv.7        3456  \n7          1708      1708                  Castle: Lv.8        6912  \n8          2562      2562                  Castle: Lv.9       12442  \n9          3844      3844                 Castle: Lv.10       19907  \n10         5766      5766                 Castle: Lv.11       25879  \n11         8650      8650                 Castle: Lv.12       30020  \n12        12975     12975                 Castle: Lv.13       35423  \n13        19462     19462                 Castle: Lv.14       41799  \n14        29193     29193                 Castle: Lv.15       49323  \n15        43790     43790                 Castle: Lv.16       58201  \n16        76919     76919                 Castle: Lv.17       68677  \n17       118456    118456                 Castle: Lv.18       81039  \n18       182422    182422                 Castle: Lv.19       12826  \n19       280930    280930                 Castle: Lv.20       30038  \n20       432632    432632                 Castle: Lv.21       69531  \n21       666255    666255                 Castle: Lv.22       85746  \n22      1026032   1026032                 Castle: Lv.23       38423  \n23      1580090   1580090                 Castle: Lv.24       69160  \n24      3160180   3160180  Castle: Lv.25 Gold Hammer: 1      200660  ",
      "text/html": "<div>\n<style scoped>\n    .dataframe tbody tr th:only-of-type {\n        vertical-align: middle;\n    }\n\n    .dataframe tbody tr th {\n        vertical-align: top;\n    }\n\n    .dataframe thead th {\n        text-align: right;\n    }\n</style>\n<table border=\"1\" class=\"dataframe\">\n  <thead>\n    <tr style=\"text-align: right;\">\n      <th></th>\n      <th>Level</th>\n      <th>Food Prod/H</th>\n      <th>Turf Food Storage</th>\n      <th>Might Bonus</th>\n      <th>Stone Cost</th>\n      <th>Timber Cost</th>\n      <th>Ore Cost</th>\n      <th>Required</th>\n      <th>Orig. Time</th>\n    </tr>\n  </thead>\n  <tbody>\n    <tr>\n      <th>0</th>\n      <td>1</td>\n      <td>70</td>\n      <td>3500</td>\n      <td>6</td>\n      <td>100</td>\n      <td>100</td>\n      <td>100</td>\n      <td>Castle: Lv.1</td>\n      <td>72</td>\n    </tr>\n    <tr>\n      <th>1</th>\n      <td>2</td>\n      <td>210</td>\n      <td>10400</td>\n      <td>14</td>\n      <td>150</td>\n      <td>150</td>\n      <td>150</td>\n      <td>Castle: Lv.2</td>\n      <td>108</td>\n    </tr>\n    <tr>\n      <th>2</th>\n      <td>3</td>\n      <td>420</td>\n      <td>20800</td>\n      <td>21</td>\n      <td>225</td>\n      <td>225</td>\n      <td>225</td>\n      <td>Castle: Lv.3</td>\n      <td>216</td>\n    </tr>\n    <tr>\n      <th>3</th>\n      <td>4</td>\n      <td>700</td>\n      <td>34700</td>\n      <td>29</td>\n      <td>337</td>\n      <td>337</td>\n      <td>337</td>\n      <td>Castle: Lv.4</td>\n      <td>432</td>\n    </tr>\n    <tr>\n      <th>4</th>\n      <td>5</td>\n      <td>1050</td>\n      <td>52100</td>\n      <td>41</td>\n      <td>506</td>\n      <td>506</td>\n      <td>506</td>\n      <td>Castle: Lv.5</td>\n      <td>864</td>\n    </tr>\n    <tr>\n      <th>5</th>\n      <td>6</td>\n      <td>1470</td>\n      <td>72900</td>\n      <td>57</td>\n      <td>759</td>\n      <td>759</td>\n      <td>759</td>\n      <td>Castle: Lv.6</td>\n      <td>1728</td>\n    </tr>\n    <tr>\n      <th>6</th>\n      <td>7</td>\n      <td>1960</td>\n      <td>97200</td>\n      <td>80</td>\n      <td>1139</td>\n      <td>1139</td>\n      <td>1139</td>\n      <td>Castle: Lv.7</td>\n      <td>3456</td>\n    </tr>\n    <tr>\n      <th>7</th>\n      <td>8</td>\n      <td>2520</td>\n      <td>125000</td>\n      <td>112</td>\n      <td>1708</td>\n      <td>1708</td>\n      <td>1708</td>\n      <td>Castle: Lv.8</td>\n      <td>6912</td>\n    </tr>\n    <tr>\n      <th>8</th>\n      <td>9</td>\n      <td>3150</td>\n      <td>187500</td>\n      <td>157</td>\n      <td>2562</td>\n      <td>2562</td>\n      <td>2562</td>\n      <td>Castle: Lv.9</td>\n      <td>12442</td>\n    </tr>\n    <tr>\n      <th>9</th>\n      <td>10</td>\n      <td>3840</td>\n      <td>256900</td>\n      <td>220</td>\n      <td>3844</td>\n      <td>3844</td>\n      <td>3844</td>\n      <td>Castle: Lv.10</td>\n      <td>19907</td>\n    </tr>\n    <tr>\n      <th>10</th>\n      <td>11</td>\n      <td>4600</td>\n      <td>333300</td>\n      <td>307</td>\n      <td>5766</td>\n      <td>5766</td>\n      <td>5766</td>\n      <td>Castle: Lv.11</td>\n      <td>25879</td>\n    </tr>\n    <tr>\n      <th>11</th>\n      <td>12</td>\n      <td>5430</td>\n      <td>416600</td>\n      <td>431</td>\n      <td>8650</td>\n      <td>8650</td>\n      <td>8650</td>\n      <td>Castle: Lv.12</td>\n      <td>30020</td>\n    </tr>\n    <tr>\n      <th>12</th>\n      <td>13</td>\n      <td>6330</td>\n      <td>506900</td>\n      <td>602</td>\n      <td>12975</td>\n      <td>12975</td>\n      <td>12975</td>\n      <td>Castle: Lv.13</td>\n      <td>35423</td>\n    </tr>\n    <tr>\n      <th>13</th>\n      <td>14</td>\n      <td>7300</td>\n      <td>604100</td>\n      <td>844</td>\n      <td>19462</td>\n      <td>19462</td>\n      <td>19462</td>\n      <td>Castle: Lv.14</td>\n      <td>41799</td>\n    </tr>\n    <tr>\n      <th>14</th>\n      <td>15</td>\n      <td>8340</td>\n      <td>708300</td>\n      <td>1181</td>\n      <td>29193</td>\n      <td>29193</td>\n      <td>29193</td>\n      <td>Castle: Lv.15</td>\n      <td>49323</td>\n    </tr>\n    <tr>\n      <th>15</th>\n      <td>16</td>\n      <td>9450</td>\n      <td>819400</td>\n      <td>1654</td>\n      <td>43790</td>\n      <td>43790</td>\n      <td>43790</td>\n      <td>Castle: Lv.16</td>\n      <td>58201</td>\n    </tr>\n    <tr>\n      <th>16</th>\n      <td>17</td>\n      <td>10630</td>\n      <td>996500</td>\n      <td>2315</td>\n      <td>76919</td>\n      <td>76919</td>\n      <td>76919</td>\n      <td>Castle: Lv.17</td>\n      <td>68677</td>\n    </tr>\n    <tr>\n      <th>17</th>\n      <td>18</td>\n      <td>11880</td>\n      <td>1184000</td>\n      <td>3241</td>\n      <td>118456</td>\n      <td>118456</td>\n      <td>118456</td>\n      <td>Castle: Lv.18</td>\n      <td>81039</td>\n    </tr>\n    <tr>\n      <th>18</th>\n      <td>19</td>\n      <td>13200</td>\n      <td>1381900</td>\n      <td>4537</td>\n      <td>182422</td>\n      <td>182422</td>\n      <td>182422</td>\n      <td>Castle: Lv.19</td>\n      <td>12826</td>\n    </tr>\n    <tr>\n      <th>19</th>\n      <td>20</td>\n      <td>14590</td>\n      <td>1590200</td>\n      <td>6353</td>\n      <td>280930</td>\n      <td>280930</td>\n      <td>280930</td>\n      <td>Castle: Lv.20</td>\n      <td>30038</td>\n    </tr>\n    <tr>\n      <th>20</th>\n      <td>21</td>\n      <td>16050</td>\n      <td>1809000</td>\n      <td>8893</td>\n      <td>432632</td>\n      <td>432632</td>\n      <td>432632</td>\n      <td>Castle: Lv.21</td>\n      <td>69531</td>\n    </tr>\n    <tr>\n      <th>21</th>\n      <td>22</td>\n      <td>17580</td>\n      <td>2038200</td>\n      <td>12450</td>\n      <td>666255</td>\n      <td>666255</td>\n      <td>666255</td>\n      <td>Castle: Lv.22</td>\n      <td>85746</td>\n    </tr>\n    <tr>\n      <th>22</th>\n      <td>23</td>\n      <td>19180</td>\n      <td>2277800</td>\n      <td>17431</td>\n      <td>1026032</td>\n      <td>1026032</td>\n      <td>1026032</td>\n      <td>Castle: Lv.23</td>\n      <td>38423</td>\n    </tr>\n    <tr>\n      <th>23</th>\n      <td>24</td>\n      <td>20850</td>\n      <td>2527800</td>\n      <td>24404</td>\n      <td>1580090</td>\n      <td>1580090</td>\n      <td>1580090</td>\n      <td>Castle: Lv.24</td>\n      <td>69160</td>\n    </tr>\n    <tr>\n      <th>24</th>\n      <td>25</td>\n      <td>38210</td>\n      <td>2875000</td>\n      <td>41485</td>\n      <td>3160180</td>\n      <td>3160180</td>\n      <td>3160180</td>\n      <td>Castle: Lv.25 Gold Hammer: 1</td>\n      <td>200660</td>\n    </tr>\n  </tbody>\n</table>\n</div>"
     },
     "execution_count": 42,
     "metadata": {},
     "output_type": "execute_result"
    }
   ],
   "source": [
    "def convert_days_to_hours(time_string):\n",
    "    days_in_sec = 0\n",
    "    if 'd' in time_string:\n",
    "        substring = time_string.split('d')\n",
    "        days = int(substring[0])\n",
    "        days_in_sec = days*3600\n",
    "        time_string = substring[1]\n",
    "\n",
    "    return sum(int(x) * 60 ** i for i, x in enumerate(reversed(time_string.split(':')))) + days_in_sec\n",
    "\n",
    "\n",
    "df[\"Orig. Time\"] = df[\"Orig. Time\"].apply(lambda x: convert_days_to_hours(x))\n",
    "df"
   ],
   "metadata": {
    "collapsed": false,
    "pycharm": {
     "name": "#%%\n"
    }
   }
  },
  {
   "cell_type": "code",
   "execution_count": 45,
   "outputs": [
    {
     "name": "stdout",
     "output_type": "stream",
     "text": [
      "dict_keys(['Vault', 'Infirmary', 'Academy', 'Trading post', 'Quarry', 'Lumber', 'Farm', 'Mine', 'Workshop', 'Barracks', 'Watchtower', 'Manor'])\n"
     ]
    }
   ],
   "source": [
    "names_levels = {'Vault': 11,\n",
    " 'Infirmary': 12,\n",
    " 'Academy': 13,\n",
    " 'Trading_Post': 14,\n",
    " 'Quarry': 16,\n",
    " 'Lumber': 16,\n",
    " 'Farm': 16,\n",
    " 'Mine': 16,\n",
    " 'Workshop': 16,\n",
    " 'Barracks': 16,\n",
    " 'Watchtower': 16,\n",
    " 'Manor': 16}\n",
    "\n",
    "print(names_levels.keys())"
   ],
   "metadata": {
    "collapsed": false,
    "pycharm": {
     "name": "#%%\n"
    }
   }
  },
  {
   "cell_type": "code",
   "execution_count": 3,
   "outputs": [
    {
     "data": {
      "text/plain": "-0.2602996266117198"
     },
     "execution_count": 3,
     "metadata": {},
     "output_type": "execute_result"
    }
   ],
   "source": [
    "help = 0.99 ** 30\n",
    "help - 1"
   ],
   "metadata": {
    "collapsed": false,
    "pycharm": {
     "name": "#%%\n"
    }
   }
  },
  {
   "cell_type": "code",
   "execution_count": 4,
   "outputs": [
    {
     "data": {
      "text/plain": "1260"
     },
     "execution_count": 4,
     "metadata": {},
     "output_type": "execute_result"
    }
   ],
   "source": [
    "free_time_sec = 21 * 60\n",
    "free_time_sec"
   ],
   "metadata": {
    "collapsed": false,
    "pycharm": {
     "name": "#%%\n"
    }
   }
  }
 ],
 "metadata": {
  "kernelspec": {
   "display_name": "Python 3",
   "language": "python",
   "name": "python3"
  },
  "language_info": {
   "codemirror_mode": {
    "name": "ipython",
    "version": 2
   },
   "file_extension": ".py",
   "mimetype": "text/x-python",
   "name": "python",
   "nbconvert_exporter": "python",
   "pygments_lexer": "ipython2",
   "version": "2.7.6"
  }
 },
 "nbformat": 4,
 "nbformat_minor": 0
}